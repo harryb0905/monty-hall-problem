{
 "cells": [
  {
   "cell_type": "markdown",
   "metadata": {},
   "source": [
    "## Monty Hall Problem"
   ]
  },
  {
   "cell_type": "markdown",
   "metadata": {},
   "source": [
    "See my blog post [here](https://www.harrybaines.net/blog/monty-hall-problem/) for details about the Monty Hall problem."
   ]
  },
  {
   "cell_type": "markdown",
   "metadata": {},
   "source": [
    "In the solution we use the following representation of the game:\n",
    "\n",
    "- 0 = goat, 1 = car \n",
    "- 3 doors - 2 goats and 1 car\n",
    "- e.g. player picks door 1 (index 0) which has a goat, host removes the other goat, and you switch to the car and win\n",
    "- e.g. player picks door 1 which has the car, host removes a goat, and you switch to the goat and lose\n",
    "- e.g. doors = [1, 0, 0]\n",
    "- e.g. doors = [0, 1, 0]\n",
    "- e.g. doors = [0, 0, 1]"
   ]
  },
  {
   "cell_type": "code",
   "execution_count": 1,
   "metadata": {},
   "outputs": [],
   "source": [
    "# Import dependencies\n",
    "import random\n",
    "import matplotlib.pyplot as plt\n",
    "import numpy as np"
   ]
  },
  {
   "cell_type": "code",
   "execution_count": 2,
   "metadata": {},
   "outputs": [],
   "source": [
    "# Run a monty hall simulation 'games' times, with an option to switch doors\n",
    "def monty_hall(games=100000, switching=True):\n",
    "    wins = 0\n",
    "    for i in range(games):\n",
    "        doors = [0] * 3\n",
    "        chosen_door_ind = random.randint(0,2)\n",
    "        car_ind = random.randint(0,2)\n",
    "        doors[car_ind] = 1\n",
    "        \n",
    "        if switching:\n",
    "            del doors[chosen_door_ind]\n",
    "            doors.remove(0)\n",
    "            wins += doors[0] == 1\n",
    "        else:\n",
    "            wins += doors[chosen_door_ind] == 1\n",
    "        \n",
    "    perc_won = (wins/games) * 100\n",
    "    perc_lost = ((games-wins)/games) * 100\n",
    "    print(\"-\"*75)\n",
    "    print(\"Played {:,} games and switching = {}\".format(games, switching))\n",
    "    print(\"Won {:,} games ({}%), lost {:,} games ({}%)\".format(wins, perc_won, games-wins, perc_lost))\n",
    "    print(\"-\"*75)\n",
    "    return wins, games-wins"
   ]
  },
  {
   "cell_type": "code",
   "execution_count": 3,
   "metadata": {},
   "outputs": [],
   "source": [
    "# Plot the results of 'games' number of monty hall simulations\n",
    "def plot_results(wins, losses, games, switching):\n",
    "    x = ['Wins', 'Losses']\n",
    "    g = [wins, losses]\n",
    "    x_pos = np.arange(len(x))\n",
    "    plt.bar(x_pos, g, color='#4579cb',align='center')\n",
    "    plt.ylabel('Number of Games')\n",
    "    plt.ylim(0, games)\n",
    "    plt.title('Monty Hall ({:,} games, switching = {})'.format(games, switching))\n",
    "    plt.xticks(x_pos, x)\n",
    "    plt.show()"
   ]
  },
  {
   "cell_type": "code",
   "execution_count": 5,
   "metadata": {},
   "outputs": [
    {
     "name": "stdout",
     "output_type": "stream",
     "text": [
      "---------------------------------------------------------------------------\n",
      "Played 100,000 games and switching = True\n",
      "Won 66,680 games (66.67999999999999%), lost 33,320 games (33.32%)\n",
      "---------------------------------------------------------------------------\n"
     ]
    },
    {
     "data": {
      "image/png": "[encoded data removed]",
      "text/plain": [
       "<Figure size 432x288 with 1 Axes>"
      ]
     },
     "metadata": {
      "needs_background": "light"
     },
     "output_type": "display_data"
    }
   ],
   "source": [
    "# Run the code\n",
    "games = 100_000\n",
    "switching = True\n",
    "wins, losses = monty_hall(games, switching)\n",
    "plot_results(wins, losses, games, switching)"
   ]
  },
  {
   "cell_type": "markdown",
   "metadata": {},
   "source": [
    "From the previous plot we notice that switching tends to result in more wins than losses over a large number of games."
   ]
  },
  {
   "cell_type": "markdown",
   "metadata": {},
   "source": [
    "### References\n",
    "- Monty Hall Problem Wikipedia: https://en.wikipedia.org/wiki/Monty_Hall_problem\n",
    "- Python Programmer YouTube video: https://www.youtube.com/watch?v=OKp3bYiKGrc"
   ]
  },
  {
   "cell_type": "code",
   "execution_count": null,
   "metadata": {},
   "outputs": [],
   "source": []
  }
 ],
 "metadata": {
  "kernelspec": {
   "display_name": "Python 3",
   "language": "python",
   "name": "python3"
  },
  "language_info": {
   "codemirror_mode": {
    "name": "ipython",
    "version": 3
   },
   "file_extension": ".py",
   "mimetype": "text/x-python",
   "name": "python",
   "nbconvert_exporter": "python",
   "pygments_lexer": "ipython3",
   "version": "3.8.2"
  }
 },
 "nbformat": 4,
 "nbformat_minor": 4
}
